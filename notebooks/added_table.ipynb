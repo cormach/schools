{
 "cells": [
  {
   "cell_type": "code",
   "execution_count": 7,
   "id": "f199bbc8",
   "metadata": {},
   "outputs": [],
   "source": [
    "import pandas as pd\n",
    "import os\n",
    "import matplotlib.pyplot as plt\n",
    "import numpy as np\n",
    "import itertools\n",
    "import seaborn as sns\n",
    "%matplotlib inline"
   ]
  },
  {
   "cell_type": "code",
   "execution_count": null,
   "id": "eca92a01",
   "metadata": {},
   "outputs": [],
   "source": [
    "query_url = \"https://www.compare-school-performance.service.gov.uk/download-data\"\n",
    "\"https://explore-education-statistics.service.gov.uk/data-catalogue/data-set/17e616ae-bc72-44de-9044-5d7406211a82\""
   ]
  },
  {
   "cell_type": "code",
   "execution_count": 8,
   "id": "e7439787",
   "metadata": {},
   "outputs": [],
   "source": [
    "value = pd.read_csv(\"https://explore-education-statistics.service.gov.uk/data-catalogue/data-set/17e616ae-bc72-44de-9044-5d7406211a82/csv\")"
   ]
  },
  {
   "cell_type": "code",
   "execution_count": 9,
   "id": "fda6bece",
   "metadata": {},
   "outputs": [
    {
     "data": {
      "text/plain": [
       "Index(['time_period', 'time_identifier', 'geographic_level', 'country_code',\n",
       "       'country_name', 'version', 'old_la_code', 'new_la_code', 'la_name',\n",
       "       'school_name', 'school_urn', 'school_laestab', 'sublevno',\n",
       "       'qualification_type', 'asize', 'subject_code', 'subject_name',\n",
       "       'value_added', 'lci', 'uci', 'number_of_entries'],\n",
       "      dtype='object')"
      ]
     },
     "execution_count": 9,
     "metadata": {},
     "output_type": "execute_result"
    }
   ],
   "source": [
    "value.columns"
   ]
  },
  {
   "cell_type": "code",
   "execution_count": 4,
   "id": "4d726271",
   "metadata": {},
   "outputs": [
    {
     "data": {
      "text/plain": [
       "'GCE A level'"
      ]
     },
     "execution_count": 4,
     "metadata": {},
     "output_type": "execute_result"
    }
   ],
   "source": [
    "value.qualification_type.value_counts().reset_index().iloc[0]['qualification_type']"
   ]
  },
  {
   "cell_type": "code",
   "execution_count": 5,
   "id": "ff50114e",
   "metadata": {},
   "outputs": [],
   "source": [
    "course_filter = value['qualification_type']=='GCE A level'\n",
    "school_urn = [138313, 136298,138313,137353,100750,132942, 136309, 135073, 140939, 101162]\n",
    "school_filter = value['school_urn'].isin(school_urn)\n",
    "courses = ['Government and Politics','History','Mathematics','Sociology','English Literature','Economics']"
   ]
  },
  {
   "cell_type": "code",
   "execution_count": 6,
   "id": "41ee43d4",
   "metadata": {},
   "outputs": [
    {
     "name": "stdout",
     "output_type": "stream",
     "text": [
      "English Literature\n"
     ]
    },
    {
     "data": {
      "text/html": [
       "<div>\n",
       "<style scoped>\n",
       "    .dataframe tbody tr th:only-of-type {\n",
       "        vertical-align: middle;\n",
       "    }\n",
       "\n",
       "    .dataframe tbody tr th {\n",
       "        vertical-align: top;\n",
       "    }\n",
       "\n",
       "    .dataframe thead th {\n",
       "        text-align: right;\n",
       "    }\n",
       "</style>\n",
       "<table border=\"1\" class=\"dataframe\">\n",
       "  <thead>\n",
       "    <tr style=\"text-align: right;\">\n",
       "      <th></th>\n",
       "      <th>school_name</th>\n",
       "      <th>value_added</th>\n",
       "      <th>lci</th>\n",
       "    </tr>\n",
       "  </thead>\n",
       "  <tbody>\n",
       "    <tr>\n",
       "      <th>1688</th>\n",
       "      <td>Prendergast School</td>\n",
       "      <td>0.65</td>\n",
       "      <td>0.3</td>\n",
       "    </tr>\n",
       "    <tr>\n",
       "      <th>2378</th>\n",
       "      <td>Westminster School</td>\n",
       "      <td>0.16</td>\n",
       "      <td>-0.09</td>\n",
       "    </tr>\n",
       "    <tr>\n",
       "      <th>35164</th>\n",
       "      <td>Sydenham and Forest Hill Sixth Form</td>\n",
       "      <td>-0.19</td>\n",
       "      <td>-0.53</td>\n",
       "    </tr>\n",
       "    <tr>\n",
       "      <th>36609</th>\n",
       "      <td>Haberdashers' Hatcham College</td>\n",
       "      <td>0.03</td>\n",
       "      <td>-0.34</td>\n",
       "    </tr>\n",
       "    <tr>\n",
       "      <th>42094</th>\n",
       "      <td>The Charter School North Dulwich</td>\n",
       "      <td>0.44</td>\n",
       "      <td>0.17</td>\n",
       "    </tr>\n",
       "    <tr>\n",
       "      <th>42433</th>\n",
       "      <td>Kingsdale Foundation School</td>\n",
       "      <td>0.48</td>\n",
       "      <td>0.19</td>\n",
       "    </tr>\n",
       "    <tr>\n",
       "      <th>59526</th>\n",
       "      <td>The St Marylebone CofE School</td>\n",
       "      <td>0.16</td>\n",
       "      <td>-0.09</td>\n",
       "    </tr>\n",
       "    <tr>\n",
       "      <th>68531</th>\n",
       "      <td>The Grey Coat Hospital</td>\n",
       "      <td>0.34</td>\n",
       "      <td>-0.05</td>\n",
       "    </tr>\n",
       "    <tr>\n",
       "      <th>77450</th>\n",
       "      <td>Harris Westminster Sixth Form</td>\n",
       "      <td>0.07</td>\n",
       "      <td>-0.16</td>\n",
       "    </tr>\n",
       "  </tbody>\n",
       "</table>\n",
       "</div>"
      ],
      "text/plain": [
       "                               school_name value_added    lci\n",
       "1688                    Prendergast School        0.65    0.3\n",
       "2378                    Westminster School        0.16  -0.09\n",
       "35164  Sydenham and Forest Hill Sixth Form       -0.19  -0.53\n",
       "36609        Haberdashers' Hatcham College        0.03  -0.34\n",
       "42094     The Charter School North Dulwich        0.44   0.17\n",
       "42433          Kingsdale Foundation School        0.48   0.19\n",
       "59526        The St Marylebone CofE School        0.16  -0.09\n",
       "68531               The Grey Coat Hospital        0.34  -0.05\n",
       "77450        Harris Westminster Sixth Form        0.07  -0.16"
      ]
     },
     "execution_count": 6,
     "metadata": {},
     "output_type": "execute_result"
    }
   ],
   "source": [
    "course = courses[4]\n",
    "course_filter = value['subject_name']==course\n",
    "print(course)\n",
    "value.loc[course_filter&school_filter&course_filter][['school_name','value_added','lci']]\n"
   ]
  },
  {
   "cell_type": "code",
   "execution_count": null,
   "id": "bcc19df0",
   "metadata": {},
   "outputs": [],
   "source": []
  }
 ],
 "metadata": {
  "kernelspec": {
   "display_name": "schools-L610MLxI-py3.12",
   "language": "python",
   "name": "python3"
  },
  "language_info": {
   "codemirror_mode": {
    "name": "ipython",
    "version": 3
   },
   "file_extension": ".py",
   "mimetype": "text/x-python",
   "name": "python",
   "nbconvert_exporter": "python",
   "pygments_lexer": "ipython3",
   "version": "3.12.1"
  }
 },
 "nbformat": 4,
 "nbformat_minor": 5
}
